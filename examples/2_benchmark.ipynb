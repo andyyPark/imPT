{
 "cells": [
  {
   "cell_type": "code",
   "execution_count": 1,
   "id": "84f56f97-3018-4c76-b0e4-16623532e54a",
   "metadata": {},
   "outputs": [],
   "source": [
    "%load_ext autoreload\n",
    "%autoreload 2\n",
    "%matplotlib inline"
   ]
  },
  {
   "cell_type": "code",
   "execution_count": 2,
   "id": "8b5e079c-f850-4c7f-b742-2ac965df74a4",
   "metadata": {},
   "outputs": [],
   "source": [
    "import fpfs\n",
    "import fitsio\n",
    "import lensPT as lpt"
   ]
  },
  {
   "cell_type": "markdown",
   "id": "dbff713a-dbc8-4017-83f7-5088ffa0809e",
   "metadata": {},
   "source": [
    "# Test catalog reading"
   ]
  },
  {
   "cell_type": "code",
   "execution_count": 3,
   "id": "2d1d900b-d565-4cef-8822-1cccf2f74f65",
   "metadata": {},
   "outputs": [
    {
     "name": "stderr",
     "output_type": "stream",
     "text": [
      "WARNING:absl:No GPU/TPU found, falling back to CPU. (Set TF_CPP_MIN_LOG_LEVEL=0 and rerun for more info.)\n"
     ]
    }
   ],
   "source": [
    "# prepare the fpfs measurement \n",
    "nms=[\n",
    "    \"fpfs_M00\",\n",
    "    \"fpfs_M20\",\n",
    "    \"fpfs_M22c\",\n",
    "    \"fpfs_M22s\",\n",
    "    \"fpfs_M40\",\n",
    "    \"fpfs_M42c\",\n",
    "    \"fpfs_M42s\",\n",
    "]\n",
    "data=fitsio.read('./data/fpfs-cut32-0000-g1-0000.fits')\n",
    "ell_fpfs=fpfs.catalog.fpfsM2E(data, const=1., noirev=False)\n",
    "ell_fpfs_corr=fpfs.catalog.fpfsM2E(data, const=1., noirev=True)\n",
    "cov_data=lpt.fpfsCov2lptCov(data,nms)"
   ]
  },
  {
   "cell_type": "code",
   "execution_count": 4,
   "id": "358b5e56-fdf5-4363-a3d5-075d1d8a08c6",
   "metadata": {},
   "outputs": [],
   "source": [
    "cat=lpt.Catalog(mode_names=['fpfs_M00', 'fpfs_M22c'],data='./data/fpfs-cut32-0000-g1-0000.fits')\n",
    "cat=lpt.observable.Catalog(mode_names=nms, data='./data/fpfs-cut32-0000-g1-0000.fits', noise_cov=cov_data)"
   ]
  },
  {
   "cell_type": "markdown",
   "id": "1e1fdf32-10e1-4a0d-ad8e-56d6d644bf1b",
   "metadata": {},
   "source": [
    "# Test the FPFS ellipticity and shear response"
   ]
  },
  {
   "cell_type": "code",
   "execution_count": 5,
   "id": "2008bb60-2850-4724-83fe-a99469b5d01e",
   "metadata": {},
   "outputs": [],
   "source": [
    "ell1=lpt.fpfs.weighted_e1(Const=1.)\n",
    "np.testing.assert_array_almost_equal(ell1.evaluate(cat), ell_fpfs['fpfs_e1'])\n",
    "\n",
    "ell2=lpt.fpfs.weighted_e2(Const=1.)\n",
    "np.testing.assert_array_almost_equal(ell2.evaluate(cat), ell_fpfs['fpfs_e2'])"
   ]
  },
  {
   "cell_type": "code",
   "execution_count": 6,
   "id": "805421c5-d0fb-4e74-bc15-1aa3834cc02c",
   "metadata": {},
   "outputs": [],
   "source": [
    "# compare the result with the original FPFS code\n",
    "de1_dg=lpt.g1Perturb1(ell1)\n",
    "np.testing.assert_array_almost_equal(de1_dg.evaluate(cat), ell_fpfs['fpfs_R1E'])\n",
    "de2_dg=lpt.g2Perturb1(ell2)\n",
    "np.testing.assert_array_almost_equal(de2_dg.evaluate(cat), ell_fpfs['fpfs_R2E'])"
   ]
  },
  {
   "cell_type": "markdown",
   "id": "178dadf8-49fa-4472-8d6c-52a1d556d769",
   "metadata": {},
   "source": [
    "# Test the noise bias correction"
   ]
  },
  {
   "cell_type": "code",
   "execution_count": 7,
   "id": "7e5db1e7-1f7a-4e94-a829-6f0a2c966efc",
   "metadata": {},
   "outputs": [],
   "source": [
    "noiseE1=lpt.noisePerturb2(ell1)\n",
    "de1_noise = noiseE1.evaluate(cat)\n",
    "de1_noise_fpfs=ell_fpfs['fpfs_e1'] - ell_fpfs_corr['fpfs_e1']\n",
    "np.testing.assert_array_almost_equal(de1_noise, de1_noise_fpfs)"
   ]
  },
  {
   "cell_type": "code",
   "execution_count": 8,
   "id": "6d794978-08fd-4ce7-93c8-d219680be915",
   "metadata": {},
   "outputs": [],
   "source": [
    "noiseE2=lpt.noisePerturb2(ell2)\n",
    "de2_noise = noiseE2.evaluate(cat)\n",
    "de2_noise_fpfs=ell_fpfs['fpfs_e2'] - ell_fpfs_corr['fpfs_e2']\n",
    "np.testing.assert_array_almost_equal(de2_noise, de2_noise_fpfs)"
   ]
  },
  {
   "cell_type": "code",
   "execution_count": 9,
   "id": "6999be36-1df0-4ff2-8da7-d04e951f5d19",
   "metadata": {},
   "outputs": [],
   "source": [
    "noiseR1=lpt.noisePerturb2(de1_dg)\n",
    "noiseR2=lpt.noisePerturb2(de2_dg)"
   ]
  },
  {
   "cell_type": "code",
   "execution_count": 14,
   "id": "bc31de4a-f379-4335-8f7b-0292e637d8bc",
   "metadata": {},
   "outputs": [],
   "source": [
    "np.testing.assert_array_almost_equal(noiseR1.evaluate(cat), ell_fpfs['fpfs_R1E'] - ell_fpfs_corr['fpfs_R1E'])\n",
    "np.testing.assert_array_almost_equal(noiseR2.evaluate(cat), ell_fpfs['fpfs_R2E'] - ell_fpfs_corr['fpfs_R2E'])"
   ]
  }
 ],
 "metadata": {
  "kernelspec": {
   "display_name": "Python 3 (ipykernel)",
   "language": "python",
   "name": "python3"
  },
  "language_info": {
   "codemirror_mode": {
    "name": "ipython",
    "version": 3
   },
   "file_extension": ".py",
   "mimetype": "text/x-python",
   "name": "python",
   "nbconvert_exporter": "python",
   "pygments_lexer": "ipython3",
   "version": "3.10.6"
  }
 },
 "nbformat": 4,
 "nbformat_minor": 5
}
