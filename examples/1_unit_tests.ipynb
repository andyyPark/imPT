{
 "cells": [
  {
   "cell_type": "code",
   "execution_count": 1,
   "id": "84f56f97-3018-4c76-b0e4-16623532e54a",
   "metadata": {},
   "outputs": [],
   "source": [
    "%load_ext autoreload\n",
    "%autoreload 2\n",
    "%matplotlib inline"
   ]
  },
  {
   "cell_type": "code",
   "execution_count": 2,
   "id": "8b5e079c-f850-4c7f-b742-2ac965df74a4",
   "metadata": {},
   "outputs": [],
   "source": [
    "import fpfs\n",
    "import fitsio\n",
    "import lensPT as lpt"
   ]
  },
  {
   "cell_type": "markdown",
   "id": "dbff713a-dbc8-4017-83f7-5088ffa0809e",
   "metadata": {},
   "source": [
    "# Test catalog reading"
   ]
  },
  {
   "cell_type": "code",
   "execution_count": 16,
   "id": "2d1d900b-d565-4cef-8822-1cccf2f74f65",
   "metadata": {},
   "outputs": [],
   "source": [
    "# prepare the fpfs measurement \n",
    "data=fitsio.read('./data/fpfs-cut32-0000-g1-0000.fits')\n",
    "ell_fpfs=fpfs.catalog.fpfsM2E(data, const=1., noirev=False)\n",
    "cov_data=lpt.fpfsCov2lptCov(data,nms)"
   ]
  },
  {
   "cell_type": "code",
   "execution_count": 17,
   "id": "358b5e56-fdf5-4363-a3d5-075d1d8a08c6",
   "metadata": {},
   "outputs": [],
   "source": [
    "cat=lpt.Catalog(mode_names=['fpfs_M00', 'fpfs_M22c'],data='./data/fpfs-cut32-0000-g1-0000.fits')\n",
    "nms=[\n",
    "    \"fpfs_M00\",\n",
    "    \"fpfs_M20\",\n",
    "    \"fpfs_M22c\",\n",
    "    \"fpfs_M22s\",\n",
    "    \"fpfs_M40\",\n",
    "    \"fpfs_M42c\",\n",
    "    \"fpfs_M42s\",\n",
    "]\n",
    "cat=lpt.observable.Catalog(mode_names=nms, data='./data/fpfs-cut32-0000-g1-0000.fits', noise_cov=cov_data)"
   ]
  },
  {
   "cell_type": "markdown",
   "id": "1e1fdf32-10e1-4a0d-ad8e-56d6d644bf1b",
   "metadata": {},
   "source": [
    "# Test the FPFS ellipticity and shear response"
   ]
  },
  {
   "cell_type": "code",
   "execution_count": 18,
   "id": "2008bb60-2850-4724-83fe-a99469b5d01e",
   "metadata": {},
   "outputs": [],
   "source": [
    "ell1=lpt.fpfs.weighted_e1(Const=1.)\n",
    "np.testing.assert_array_almost_equal(ell1.evaluate(cat), ell_fpfs['fpfs_e1'])\n",
    "\n",
    "ell2=lpt.fpfs.weighted_e2(Const=1.)\n",
    "np.testing.assert_array_almost_equal(ell2.evaluate(cat), ell_fpfs['fpfs_e2'])"
   ]
  },
  {
   "cell_type": "code",
   "execution_count": 19,
   "id": "805421c5-d0fb-4e74-bc15-1aa3834cc02c",
   "metadata": {},
   "outputs": [],
   "source": [
    "# compare the result with the original FPFS code\n",
    "de1_dg=lpt.g1Perturb1(ell1)\n",
    "np.testing.assert_array_almost_equal(de1_dg.evaluate(cat), ell_fpfs['fpfs_R1E'])\n",
    "de2_dg=lpt.g2Perturb1(ell2)\n",
    "np.testing.assert_array_almost_equal(de2_dg.evaluate(cat), ell_fpfs['fpfs_R2E'])"
   ]
  },
  {
   "cell_type": "markdown",
   "id": "178dadf8-49fa-4472-8d6c-52a1d556d769",
   "metadata": {},
   "source": [
    "# Test the noise bias correction"
   ]
  },
  {
   "cell_type": "code",
   "execution_count": 20,
   "id": "e33fecec-ea2d-4148-a9b0-e664bdd2589e",
   "metadata": {},
   "outputs": [],
   "source": [
    "noiseE1=lpt.noisePerturb2(ell1)"
   ]
  },
  {
   "cell_type": "code",
   "execution_count": 21,
   "id": "5713c079-b4d0-44cb-bb3f-43d3b3dbc192",
   "metadata": {},
   "outputs": [
    {
     "data": {
      "text/plain": [
       "DeviceArray([-6.3489872e-04, -8.2119531e-04,  1.4489755e-04,\n",
       "              2.5229095e-04,  5.5368076e-04,  1.7579213e-04,\n",
       "             -1.1250176e-03, -1.4595265e-03,  3.8009857e-05,\n",
       "             -1.7214622e-04,  2.5863303e-05,  4.0902189e-04,\n",
       "              4.6406896e-04,  5.5078435e-04,  7.9996244e-06,\n",
       "              1.6246242e-05, -1.7765012e-04,  1.2792185e-06,\n",
       "             -1.7244687e-04, -3.6083671e-04, -3.2512512e-06,\n",
       "             -3.7485159e-05, -5.8324058e-05, -6.4128707e-04,\n",
       "             -4.8985478e-04, -2.0897831e-03, -9.1704389e-04,\n",
       "              6.9911373e-05, -3.7114135e-06, -2.5834693e-03],            dtype=float32)"
      ]
     },
     "execution_count": 21,
     "metadata": {},
     "output_type": "execute_result"
    }
   ],
   "source": [
    "noiseE1.evaluate(cat)"
   ]
  },
  {
   "cell_type": "code",
   "execution_count": null,
   "id": "7413dd1f-f9b3-4fcc-a8e4-b2705a4ce6a4",
   "metadata": {},
   "outputs": [],
   "source": []
  }
 ],
 "metadata": {
  "kernelspec": {
   "display_name": "Python 3 (ipykernel)",
   "language": "python",
   "name": "python3"
  },
  "language_info": {
   "codemirror_mode": {
    "name": "ipython",
    "version": 3
   },
   "file_extension": ".py",
   "mimetype": "text/x-python",
   "name": "python",
   "nbconvert_exporter": "python",
   "pygments_lexer": "ipython3",
   "version": "3.10.6"
  }
 },
 "nbformat": 4,
 "nbformat_minor": 5
}
