{
 "cells": [
  {
   "cell_type": "code",
   "execution_count": 1,
   "id": "84f56f97-3018-4c76-b0e4-16623532e54a",
   "metadata": {},
   "outputs": [],
   "source": [
    "%load_ext autoreload\n",
    "%autoreload 2\n",
    "%matplotlib inline"
   ]
  },
  {
   "cell_type": "code",
   "execution_count": 2,
   "id": "8b5e079c-f850-4c7f-b742-2ac965df74a4",
   "metadata": {},
   "outputs": [],
   "source": [
    "import fpfs\n",
    "import fitsio\n",
    "import lensPT as lpt"
   ]
  },
  {
   "cell_type": "code",
   "execution_count": 3,
   "id": "358b5e56-fdf5-4363-a3d5-075d1d8a08c6",
   "metadata": {},
   "outputs": [],
   "source": [
    "cat=lpt.observable.Catalog('./fpfs-cut32-0000-g1-0000.fits',mode_names=['fpfs_M00', 'fpfs_M22c'])\n",
    "nms=[\n",
    "    \"fpfs_M00\",\n",
    "    \"fpfs_M20\",\n",
    "    \"fpfs_M22c\",\n",
    "    \"fpfs_M22s\",\n",
    "    \"fpfs_M40\",\n",
    "    \"fpfs_M42c\",\n",
    "    \"fpfs_M42s\",\n",
    "]\n",
    "cat=lpt.observable.Catalog('./fpfs-cut32-0000-g1-0000.fits', mode_names=nms)"
   ]
  },
  {
   "cell_type": "code",
   "execution_count": 4,
   "id": "2d1d900b-d565-4cef-8822-1cccf2f74f65",
   "metadata": {},
   "outputs": [],
   "source": [
    "data=fitsio.read('./fpfs-cut32-0000-g1-0000.fits')\n",
    "ell_fpfs=fpfs.catalog.fpfsM2E(data, const=1., noirev=False)"
   ]
  },
  {
   "cell_type": "code",
   "execution_count": 23,
   "id": "2008bb60-2850-4724-83fe-a99469b5d01e",
   "metadata": {},
   "outputs": [],
   "source": [
    "ell1=lpt.fpfs.weighted_e1(Const=1.)\n",
    "np.testing.assert_array_almost_equal(ell1.evaluate(cat), ell_fpfs['fpfs_e1'])\n",
    "\n",
    "ell2=lpt.fpfs.weighted_e2(Const=1.)\n",
    "np.testing.assert_array_almost_equal(ell2.evaluate(cat), ell_fpfs['fpfs_e2'])"
   ]
  },
  {
   "cell_type": "code",
   "execution_count": 24,
   "id": "805421c5-d0fb-4e74-bc15-1aa3834cc02c",
   "metadata": {},
   "outputs": [],
   "source": [
    "de1_dg=lpt.shear.g1_perturb1(ell1)\n",
    "np.testing.assert_array_almost_equal(de1_dg.evaluate(cat), ell_fpfs['fpfs_R1E'])\n",
    "de2_dg=lpt.shear.g2_perturb1(ell2)\n",
    "np.testing.assert_array_almost_equal(de2_dg.evaluate(cat), ell_fpfs['fpfs_R2E'])"
   ]
  },
  {
   "cell_type": "code",
   "execution_count": 27,
   "id": "e59e4721-3ba4-4170-9c5a-75197438b229",
   "metadata": {},
   "outputs": [
    {
     "name": "stdout",
     "output_type": "stream",
     "text": [
      "[-2.0443629e-02 -1.9980099e-02  3.8605412e-03  8.9093698e-03\n",
      "  3.8315693e-03 -3.1614301e-04 -1.4659713e-03 -1.6872744e-03\n",
      " -3.5665513e-03  5.4947715e-03  1.4362693e-03  3.8454324e-02\n",
      "  4.1667387e-02  6.4823106e-02 -4.8193251e-04 -6.2746005e-03\n",
      " -8.2711643e-03  6.2288171e-05 -6.3474476e-03  4.9076444e-03\n",
      " -2.0742211e-02 -2.6656084e-03 -3.1420225e-03 -1.3198294e-02\n",
      " -2.0027472e-02  1.2632523e-04  8.0843242e-03  2.9222539e-04\n",
      "  7.2754879e-04  4.6913136e-02]\n"
     ]
    }
   ],
   "source": [
    "print(lpt.shear.g2_perturb1(ell1).evaluate(cat))"
   ]
  },
  {
   "cell_type": "code",
   "execution_count": 14,
   "id": "e0e98828-ca0e-445a-8f70-4cfd1234c0bc",
   "metadata": {},
   "outputs": [
    {
     "data": {
      "text/plain": [
       "['fpfs_M00',\n",
       " 'fpfs_M20',\n",
       " 'fpfs_M22c',\n",
       " 'fpfs_M22s',\n",
       " 'fpfs_M40',\n",
       " 'fpfs_M42c',\n",
       " 'fpfs_M42s']"
      ]
     },
     "execution_count": 14,
     "metadata": {},
     "output_type": "execute_result"
    }
   ],
   "source": [
    "cat.mode_names"
   ]
  },
  {
   "cell_type": "code",
   "execution_count": 41,
   "id": "1cb290e6-66fe-449b-817e-e78ed5df8556",
   "metadata": {},
   "outputs": [],
   "source": [
    "mnames = ['fpfs_M00',\n",
    "         'fpfs_M20',\n",
    "         'fpfs_M22c',\n",
    "         'fpfs_M22s',\n",
    "         'fpfs_M40'\n",
    "         ]\n",
    "ll=['N'+nn[6:] for nn in mnames]\n",
    "nmodes=len(mnames)\n",
    "out = np.zeros((nmodes, nmodes))\n",
    "for i in range(nmodes):\n",
    "    for j in range(nmodes):\n",
    "        try:\n",
    "            try:\n",
    "                cname = \"fpfs_%s%s\" %(ll[i],ll[j])\n",
    "                out[i,j] = data[cname][0]\n",
    "            except ValueError:\n",
    "                cname = \"fpfs_%s%s\" %(ll[j],ll[i])\n",
    "                out[i,j] = data[cname][0]\n",
    "        except ValueError:\n",
    "            out[i,j] = 0."
   ]
  },
  {
   "cell_type": "code",
   "execution_count": 42,
   "id": "0d0ba4bf-27e6-470e-a596-6f744ac9426f",
   "metadata": {},
   "outputs": [
    {
     "data": {
      "text/plain": [
       "array([[ 0.2527605 , -0.21982138, -0.00467147,  0.00448834,  0.07889691],\n",
       "       [-0.21982138,  0.85019702,  0.01473339, -0.01488401, -0.94006115],\n",
       "       [-0.00467147,  0.01473339,  0.38725469,  0.        ,  0.        ],\n",
       "       [ 0.00448834, -0.01488401,  0.        ,  0.38404545,  0.        ],\n",
       "       [ 0.07889691, -0.94006115,  0.        ,  0.        ,  2.69394445]])"
      ]
     },
     "execution_count": 42,
     "metadata": {},
     "output_type": "execute_result"
    }
   ],
   "source": [
    "out"
   ]
  },
  {
   "cell_type": "code",
   "execution_count": 43,
   "id": "52b4e032-42f8-4fa3-87f8-8123784d57de",
   "metadata": {},
   "outputs": [
    {
     "data": {
      "text/plain": [
       "array([0.2527605, 0.2527605, 0.2527605, 0.2527605, 0.2527605, 0.2527605,\n",
       "       0.2527605, 0.2527605, 0.2527605, 0.2527605, 0.2527605, 0.2527605,\n",
       "       0.2527605, 0.2527605, 0.2527605, 0.2527605, 0.2527605, 0.2527605,\n",
       "       0.2527605, 0.2527605, 0.2527605, 0.2527605, 0.2527605, 0.2527605,\n",
       "       0.2527605, 0.2527605, 0.2527605, 0.2527605, 0.2527605, 0.2527605])"
      ]
     },
     "execution_count": 43,
     "metadata": {},
     "output_type": "execute_result"
    }
   ],
   "source": [
    "data['fpfs_N00N00']"
   ]
  },
  {
   "cell_type": "code",
   "execution_count": 28,
   "id": "28dd2f1c-c235-4409-9146-b8115571e914",
   "metadata": {},
   "outputs": [
    {
     "data": {
      "text/plain": [
       "('fpfs_y',\n",
       " 'fpfs_x',\n",
       " 'fpfs_M00',\n",
       " 'fpfs_M20',\n",
       " 'fpfs_M22c',\n",
       " 'fpfs_M22s',\n",
       " 'fpfs_M40',\n",
       " 'fpfs_M42c',\n",
       " 'fpfs_M42s',\n",
       " 'fpfs_v0',\n",
       " 'fpfs_v0r1',\n",
       " 'fpfs_v0r2',\n",
       " 'fpfs_v1',\n",
       " 'fpfs_v1r1',\n",
       " 'fpfs_v1r2',\n",
       " 'fpfs_v2',\n",
       " 'fpfs_v2r1',\n",
       " 'fpfs_v2r2',\n",
       " 'fpfs_v3',\n",
       " 'fpfs_v3r1',\n",
       " 'fpfs_v3r2',\n",
       " 'fpfs_v4',\n",
       " 'fpfs_v4r1',\n",
       " 'fpfs_v4r2',\n",
       " 'fpfs_v5',\n",
       " 'fpfs_v5r1',\n",
       " 'fpfs_v5r2',\n",
       " 'fpfs_v6',\n",
       " 'fpfs_v6r1',\n",
       " 'fpfs_v6r2',\n",
       " 'fpfs_v7',\n",
       " 'fpfs_v7r1',\n",
       " 'fpfs_v7r2',\n",
       " 'fpfs_N00N00',\n",
       " 'fpfs_N20N20',\n",
       " 'fpfs_N22cN22c',\n",
       " 'fpfs_N22sN22s',\n",
       " 'fpfs_N40N40',\n",
       " 'fpfs_N00N20',\n",
       " 'fpfs_N00N22c',\n",
       " 'fpfs_N00N22s',\n",
       " 'fpfs_N00N40',\n",
       " 'fpfs_N00N42c',\n",
       " 'fpfs_N00N42s',\n",
       " 'fpfs_N20N22c',\n",
       " 'fpfs_N20N22s',\n",
       " 'fpfs_N20N40',\n",
       " 'fpfs_N22cN42c',\n",
       " 'fpfs_N22sN42s',\n",
       " 'fpfs_N00V0',\n",
       " 'fpfs_N00V0r1',\n",
       " 'fpfs_N00V0r2',\n",
       " 'fpfs_N22cV0',\n",
       " 'fpfs_N22sV0',\n",
       " 'fpfs_N22cV0r1',\n",
       " 'fpfs_N22sV0r2',\n",
       " 'fpfs_N40V0',\n",
       " 'fpfs_N00V1',\n",
       " 'fpfs_N00V1r1',\n",
       " 'fpfs_N00V1r2',\n",
       " 'fpfs_N22cV1',\n",
       " 'fpfs_N22sV1',\n",
       " 'fpfs_N22cV1r1',\n",
       " 'fpfs_N22sV1r2',\n",
       " 'fpfs_N40V1',\n",
       " 'fpfs_N00V2',\n",
       " 'fpfs_N00V2r1',\n",
       " 'fpfs_N00V2r2',\n",
       " 'fpfs_N22cV2',\n",
       " 'fpfs_N22sV2',\n",
       " 'fpfs_N22cV2r1',\n",
       " 'fpfs_N22sV2r2',\n",
       " 'fpfs_N40V2',\n",
       " 'fpfs_N00V3',\n",
       " 'fpfs_N00V3r1',\n",
       " 'fpfs_N00V3r2',\n",
       " 'fpfs_N22cV3',\n",
       " 'fpfs_N22sV3',\n",
       " 'fpfs_N22cV3r1',\n",
       " 'fpfs_N22sV3r2',\n",
       " 'fpfs_N40V3',\n",
       " 'fpfs_N00V4',\n",
       " 'fpfs_N00V4r1',\n",
       " 'fpfs_N00V4r2',\n",
       " 'fpfs_N22cV4',\n",
       " 'fpfs_N22sV4',\n",
       " 'fpfs_N22cV4r1',\n",
       " 'fpfs_N22sV4r2',\n",
       " 'fpfs_N40V4',\n",
       " 'fpfs_N00V5',\n",
       " 'fpfs_N00V5r1',\n",
       " 'fpfs_N00V5r2',\n",
       " 'fpfs_N22cV5',\n",
       " 'fpfs_N22sV5',\n",
       " 'fpfs_N22cV5r1',\n",
       " 'fpfs_N22sV5r2',\n",
       " 'fpfs_N40V5',\n",
       " 'fpfs_N00V6',\n",
       " 'fpfs_N00V6r1',\n",
       " 'fpfs_N00V6r2',\n",
       " 'fpfs_N22cV6',\n",
       " 'fpfs_N22sV6',\n",
       " 'fpfs_N22cV6r1',\n",
       " 'fpfs_N22sV6r2',\n",
       " 'fpfs_N40V6',\n",
       " 'fpfs_N00V7',\n",
       " 'fpfs_N00V7r1',\n",
       " 'fpfs_N00V7r2',\n",
       " 'fpfs_N22cV7',\n",
       " 'fpfs_N22sV7',\n",
       " 'fpfs_N22cV7r1',\n",
       " 'fpfs_N22sV7r2',\n",
       " 'fpfs_N40V7')"
      ]
     },
     "execution_count": 28,
     "metadata": {},
     "output_type": "execute_result"
    }
   ],
   "source": [
    "data.dtype.names"
   ]
  },
  {
   "cell_type": "code",
   "execution_count": null,
   "id": "1325deb2-7463-43fe-861c-60ea4f5d316b",
   "metadata": {},
   "outputs": [],
   "source": []
  }
 ],
 "metadata": {
  "kernelspec": {
   "display_name": "Python 3 (ipykernel)",
   "language": "python",
   "name": "python3"
  },
  "language_info": {
   "codemirror_mode": {
    "name": "ipython",
    "version": 3
   },
   "file_extension": ".py",
   "mimetype": "text/x-python",
   "name": "python",
   "nbconvert_exporter": "python",
   "pygments_lexer": "ipython3",
   "version": "3.10.6"
  }
 },
 "nbformat": 4,
 "nbformat_minor": 5
}
