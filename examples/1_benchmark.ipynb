{
 "cells": [
  {
   "cell_type": "code",
   "execution_count": 1,
   "id": "a8e8fbdb-090e-49f4-8e48-a069b3d43ec4",
   "metadata": {},
   "outputs": [],
   "source": [
    "%reload_ext autoreload\n",
    "%autoreload 2\n",
    "\n",
    "import jax\n",
    "import jax.numpy as jnp\n",
    "import fitsio\n",
    "\n",
    "import impt\n",
    "from impt.fpfs import *\n",
    "from impt.fpfs.default import *"
   ]
  },
  {
   "cell_type": "code",
   "execution_count": 3,
   "id": "17f91924-f7f7-4b4b-bb04-92dde1887f53",
   "metadata": {},
   "outputs": [
    {
     "name": "stderr",
     "output_type": "stream",
     "text": [
      "No GPU/TPU found, falling back to CPU. (Set TF_CPP_MIN_LOG_LEVEL=0 and rerun for more info.)\n"
     ]
    },
    {
     "name": "stdout",
     "output_type": "stream",
     "text": [
      "Simulating catalog with 1000000 galaxies\n"
     ]
    }
   ],
   "source": [
    "ndat=1000000\n",
    "print(\"Simulating catalog with %d galaxies\" %ndat)\n",
    "key = jax.random.PRNGKey(212)  # Random seed is explicit in JAX\n",
    "cat = jax.random.normal(key=key, shape=(ndat, ncol))\n",
    "\n",
    "params = FpfsParams(Const=2.0)\n",
    "e1F = FpfsE1(params)\n",
    "e2F = FpfsE2(params)"
   ]
  },
  {
   "cell_type": "code",
   "execution_count": 4,
   "id": "9e83e8a0-ab96-4724-b479-ec6840cf5629",
   "metadata": {},
   "outputs": [
    {
     "name": "stdout",
     "output_type": "stream",
     "text": [
      "loading the noise covariance\n",
      "CPU times: user 2.05 ms, sys: 2 µs, total: 2.05 ms\n",
      "Wall time: 2.01 ms\n"
     ]
    }
   ],
   "source": [
    "print(\"loading the noise covariance\")\n",
    "test_fname = os.path.join(\n",
    "    impt.fpfs.__data_dir__,\n",
    "    \"fpfs-cut32-0000-g1-0000.fits\",\n",
    "    )\n",
    "data=fitsio.read(test_fname)\n",
    "%time noise_cov=impt.fpfs.utils.fpfsCov2lptCov(data)"
   ]
  },
  {
   "cell_type": "code",
   "execution_count": 5,
   "id": "e2a3907e-7a8a-4342-bdba-8d7cedef8d9e",
   "metadata": {},
   "outputs": [
    {
     "name": "stdout",
     "output_type": "stream",
     "text": [
      "preparing the function for noise bias factor estimation\n",
      "CPU times: user 399 µs, sys: 0 ns, total: 399 µs\n",
      "Wall time: 410 µs\n",
      "estimating noise bias\n",
      "CPU times: user 1.87 s, sys: 12 ms, total: 1.88 s\n",
      "Wall time: 1.87 s\n"
     ]
    },
    {
     "data": {
      "text/plain": [
       "Array([ 0.01420485, -0.01691402,  0.00158234, ..., -0.16089322,\n",
       "        0.21418488,  0.00549208], dtype=float64)"
      ]
     },
     "execution_count": 5,
     "metadata": {},
     "output_type": "execute_result"
    }
   ],
   "source": [
    "print(\"preparing the function for noise bias factor estimation\")\n",
    "%time e1_noi= impt.BiasNoise(e1F, noise_cov)\n",
    "print(\"estimating noise bias\")\n",
    "%time e1_noi.evaluate(cat)"
   ]
  },
  {
   "cell_type": "code",
   "execution_count": 6,
   "id": "41350fa4-9f25-4f9c-94e0-1dd1691ada25",
   "metadata": {},
   "outputs": [
    {
     "name": "stdout",
     "output_type": "stream",
     "text": [
      "preparing the function for shear response estimation\n",
      "CPU times: user 358 µs, sys: 35 µs, total: 393 µs\n",
      "Wall time: 405 µs\n",
      "estimating shear response\n",
      "CPU times: user 197 ms, sys: 7.93 ms, total: 205 ms\n",
      "Wall time: 195 ms\n"
     ]
    }
   ],
   "source": [
    "print(\"preparing the function for shear response estimation\")\n",
    "%time e1_res=impt.RespG1(e1F)\n",
    "print(\"estimating shear response\")\n",
    "%time out=e1_res.evaluate(cat)"
   ]
  },
  {
   "cell_type": "code",
   "execution_count": null,
   "id": "1ef9b0a8-0fe2-45db-aad2-d96b154dda90",
   "metadata": {},
   "outputs": [],
   "source": []
  }
 ],
 "metadata": {
  "kernelspec": {
   "display_name": "Python 3 (ipykernel)",
   "language": "python",
   "name": "python3"
  },
  "language_info": {
   "codemirror_mode": {
    "name": "ipython",
    "version": 3
   },
   "file_extension": ".py",
   "mimetype": "text/x-python",
   "name": "python",
   "nbconvert_exporter": "python",
   "pygments_lexer": "ipython3",
   "version": "3.8.15"
  }
 },
 "nbformat": 4,
 "nbformat_minor": 5
}
