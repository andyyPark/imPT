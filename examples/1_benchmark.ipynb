{
 "cells": [
  {
   "cell_type": "code",
   "execution_count": 1,
   "id": "a8e8fbdb-090e-49f4-8e48-a069b3d43ec4",
   "metadata": {},
   "outputs": [],
   "source": [
    "%reload_ext autoreload\n",
    "%autoreload 2\n",
    "\n",
    "import jax\n",
    "import jax.numpy as jnp\n",
    "import fitsio\n",
    "\n",
    "import impt\n",
    "from impt.fpfs import *\n",
    "from impt.fpfs.default import *"
   ]
  },
  {
   "cell_type": "code",
   "execution_count": 3,
   "id": "17f91924-f7f7-4b4b-bb04-92dde1887f53",
   "metadata": {},
   "outputs": [
    {
     "name": "stderr",
     "output_type": "stream",
     "text": [
      "No GPU/TPU found, falling back to CPU. (Set TF_CPP_MIN_LOG_LEVEL=0 and rerun for more info.)\n"
     ]
    },
    {
     "name": "stdout",
     "output_type": "stream",
     "text": [
      "Simulating catalog with 1000000 galaxies\n"
     ]
    }
   ],
   "source": [
    "ndat=1000000\n",
    "print(\"Simulating catalog with %d galaxies\" %ndat)\n",
    "key = jax.random.PRNGKey(212)  # Random seed is explicit in JAX\n",
    "cat = jax.random.normal(key=key, shape=(ndat, ncol))\n",
    "\n",
    "params = FpfsParams()\n",
    "e1F = FpfsE1(params)\n",
    "e2F = FpfsE2(params)"
   ]
  },
  {
   "cell_type": "code",
   "execution_count": 4,
   "id": "9e83e8a0-ab96-4724-b479-ec6840cf5629",
   "metadata": {},
   "outputs": [
    {
     "name": "stdout",
     "output_type": "stream",
     "text": [
      "loading the noise covariance\n",
      "CPU times: user 2.05 ms, sys: 2 µs, total: 2.05 ms\n",
      "Wall time: 2.01 ms\n"
     ]
    }
   ],
   "source": [
    "print(\"loading the noise covariance\")\n",
    "test_fname = os.path.join(\n",
    "    impt.fpfs.__data_dir__,\n",
    "    \"fpfs-cut32-0000-g1-0000.fits\",\n",
    "    )\n",
    "data=fitsio.read(test_fname)\n",
    "%time noise_cov=impt.fpfs.utils.fpfsCov2lptCov(data)"
   ]
  },
  {
   "cell_type": "code",
   "execution_count": 5,
   "id": "e2a3907e-7a8a-4342-bdba-8d7cedef8d9e",
   "metadata": {},
   "outputs": [
    {
     "name": "stdout",
     "output_type": "stream",
     "text": [
      "preparing the function for noise bias factor estimation\n",
      "CPU times: user 399 µs, sys: 0 ns, total: 399 µs\n",
      "Wall time: 410 µs\n",
      "estimating noise bias\n",
      "CPU times: user 1.87 s, sys: 12 ms, total: 1.88 s\n",
      "Wall time: 1.87 s\n"
     ]
    },
    {
     "data": {
      "text/plain": [
       "Array([ 0.01420485, -0.01691402,  0.00158234, ..., -0.16089322,\n",
       "        0.21418488,  0.00549208], dtype=float64)"
      ]
     },
     "execution_count": 5,
     "metadata": {},
     "output_type": "execute_result"
    }
   ],
   "source": [
    "print(\"preparing the function for noise bias factor estimation\")\n",
    "%time e1_noi= impt.BiasNoise(e1F, noise_cov)\n",
    "print(\"estimating noise bias\")\n",
    "%time e1_noi.evaluate(cat)"
   ]
  },
  {
   "cell_type": "code",
   "execution_count": 6,
   "id": "41350fa4-9f25-4f9c-94e0-1dd1691ada25",
   "metadata": {},
   "outputs": [
    {
     "name": "stdout",
     "output_type": "stream",
     "text": [
      "preparing the function for shear response estimation\n",
      "CPU times: user 358 µs, sys: 35 µs, total: 393 µs\n",
      "Wall time: 405 µs\n",
      "estimating shear response\n",
      "CPU times: user 197 ms, sys: 7.93 ms, total: 205 ms\n",
      "Wall time: 195 ms\n"
     ]
    }
   ],
   "source": [
    "print(\"preparing the function for shear response estimation\")\n",
    "%time e1_res=impt.RespG1(e1F)\n",
    "print(\"estimating shear response\")\n",
    "%time out=e1_res.evaluate(cat)"
   ]
  },
  {
   "cell_type": "code",
   "execution_count": 14,
   "id": "8fbe0686-02db-4a34-9e91-9f24aad30b6f",
   "metadata": {},
   "outputs": [],
   "source": [
    "selnm = []\n",
    "selnm.append(\"detect2\")\n",
    "selnm.append(\"M00\")\n",
    "selnm.append(\"R2\")\n",
    "selnm = np.array(selnm)\n",
    "\n"
   ]
  },
  {
   "cell_type": "code",
   "execution_count": 6,
   "id": "212126bc-c265-42bc-8df5-63d0986adbfd",
   "metadata": {},
   "outputs": [],
   "source": [
    "import fpfs\n",
    "def initialize_FPFS(fs, snlist):\n",
    "    cutsig = []\n",
    "    cut = []\n",
    "    for sn in snlist:\n",
    "        if sn == \"detect2\":\n",
    "            cutsig.append(params.sigma_v)\n",
    "            cut.append(params.lower_v)\n",
    "        elif sn == \"M00\":\n",
    "            cutsig.append(params.sigma_m00)\n",
    "            cut.append(params.lower_m00)\n",
    "        elif sn == \"R2\":\n",
    "            cutsig.append(params.sigma_r2)\n",
    "            cut.append(params.lower_r2)\n",
    "    cutsig = np.array(cutsig)\n",
    "    cut = np.array(cut)\n",
    "    fs.clear_outcomes()\n",
    "    fs.update_selection_weight(snlist, cut, cutsig)\n",
    "    return fs\n",
    "\n",
    "test_fname = os.path.join(\n",
    "    impt.fpfs.__data_dir__,\n",
    "    \"fpfs-cut32-0000-g1-0000.fits\",\n",
    "    )\n",
    "cat = impt.fpfs.read_catalog(test_fname)\n",
    "data = fitsio.read(test_fname)"
   ]
  },
  {
   "cell_type": "code",
   "execution_count": 11,
   "id": "028709f3-0116-4b26-8f45-6e6e7d4fdce8",
   "metadata": {},
   "outputs": [],
   "source": [
    "params = FpfsParams(lower_m00=4.0, sigma_m00=0.5, lower_r2=-10.)\n",
    "e1F = FpfsE1(params)\n",
    "e2F = FpfsE2(params)\n",
    "w_sel = FpfsWeightSelect(params)\n",
    "w_det = FpfsWeightDetect(params)\n",
    "\n",
    "\n",
    "ell_fpfs = fpfs.catalog.fpfsM2E(data, const=params.Const, noirev=False)\n",
    "fs = fpfs.catalog.summary_stats(data, ell_fpfs, use_sig=False, ratio=1.0)\n",
    "selnm = np.array([\"M00\"])\n",
    "fs = initialize_FPFS(fs, selnm)\n",
    "\n",
    "np.testing.assert_array_almost_equal(\n",
    "    fs.ws,\n",
    "    w_sel.evaluate(cat),\n",
    ")"
   ]
  },
  {
   "cell_type": "code",
   "execution_count": 17,
   "id": "f2ec3432-9093-4f54-a536-d5eb0f196c55",
   "metadata": {},
   "outputs": [],
   "source": [
    "params = FpfsParams(lower_m00=-4.0, sigma_m00=0.5, lower_r2=0.12, sigma_r2=0.2)\n",
    "e1F = FpfsE1(params)\n",
    "e2F = FpfsE2(params)\n",
    "w_sel = FpfsWeightSelect(params)\n",
    "w_det = FpfsWeightDetect(params)\n",
    "\n",
    "\n",
    "ell_fpfs = fpfs.catalog.fpfsM2E(data, const=params.Const, noirev=False)\n",
    "fs = fpfs.catalog.summary_stats(data, ell_fpfs, use_sig=False, ratio=1.0)\n",
    "selnm = np.array([\"R2\"])\n",
    "fs = initialize_FPFS(fs, selnm)\n",
    "\n",
    "np.testing.assert_array_almost_equal(\n",
    "    fs.ws,\n",
    "    w_sel.evaluate(cat),\n",
    ")"
   ]
  },
  {
   "cell_type": "code",
   "execution_count": 25,
   "id": "2e58cad3-2273-4d82-8c03-e1f18566ab3c",
   "metadata": {},
   "outputs": [],
   "source": [
    "params = FpfsParams(lower_m00=-4.0, sigma_m00=0.5, lower_r2=-4.0, sigma_r2=0.2, sigma_v=0.2)\n",
    "e1F = FpfsE1(params)\n",
    "e2F = FpfsE2(params)\n",
    "w_sel = FpfsWeightSelect(params)\n",
    "w_det = FpfsWeightDetect(params)\n",
    "\n",
    "\n",
    "ell_fpfs = fpfs.catalog.fpfsM2E(data, const=params.Const, noirev=False)\n",
    "fs = fpfs.catalog.summary_stats(data, ell_fpfs, use_sig=False, ratio=1.0)\n",
    "selnm = np.array([\"detect2\"])\n",
    "fs = initialize_FPFS(fs, selnm)\n",
    "\n",
    "np.testing.assert_array_almost_equal(\n",
    "    fs.ws,\n",
    "    w_det.evaluate(cat),\n",
    ")"
   ]
  }
 ],
 "metadata": {
  "kernelspec": {
   "display_name": "Python 3 (ipykernel)",
   "language": "python",
   "name": "python3"
  },
  "language_info": {
   "codemirror_mode": {
    "name": "ipython",
    "version": 3
   },
   "file_extension": ".py",
   "mimetype": "text/x-python",
   "name": "python",
   "nbconvert_exporter": "python",
   "pygments_lexer": "ipython3",
   "version": "3.8.15"
  }
 },
 "nbformat": 4,
 "nbformat_minor": 5
}
