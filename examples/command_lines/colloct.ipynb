{
 "cells": [
  {
   "cell_type": "code",
   "execution_count": 9,
   "id": "0d8603a7-5f1d-4149-afae-6ca6873f8d40",
   "metadata": {},
   "outputs": [
    {
     "name": "stdout",
     "output_type": "stream",
     "text": [
      "The autoreload extension is already loaded. To reload it, use:\n",
      "  %reload_ext autoreload\n"
     ]
    }
   ],
   "source": [
    "%load_ext autoreload\n",
    "%autoreload 2\n",
    "%matplotlib inline\n",
    "\n",
    "import glob\n",
    "import os\n",
    "import fpfs\n",
    "import fitsio\n",
    "import impt"
   ]
  },
  {
   "cell_type": "code",
   "execution_count": 80,
   "id": "dcb6859d-a250-48f3-8e85-6c8ee4235d01",
   "metadata": {},
   "outputs": [
    {
     "name": "stdout",
     "output_type": "stream",
     "text": [
      "6980\n"
     ]
    }
   ],
   "source": [
    "fnames = glob.glob('./summary2_output6/*.fits')\n",
    "print(len(fnames))"
   ]
  },
  {
   "cell_type": "code",
   "execution_count": 81,
   "id": "4cfa695e-5238-49cb-ad67-2e234bb90116",
   "metadata": {},
   "outputs": [],
   "source": [
    "nsims = len(fnames)\n",
    "out = np.zeros((nsims, 4))\n",
    "for ii,ff in enumerate(fnames):\n",
    "    out[ii] = fitsio.read(ff)[0:4,0]"
   ]
  },
  {
   "cell_type": "code",
   "execution_count": 82,
   "id": "b80f398b-7c6e-402c-ac3a-3aba6533eb66",
   "metadata": {},
   "outputs": [],
   "source": [
    "shear_value = 0.02\n",
    "res = np.average(out, axis=0)\n",
    "err = np.std(out, axis=0)\n",
    "mbias = (res[1] / res[3] / 2.0 - shear_value) / shear_value\n",
    "merr = (err[1] / res[3] / 2.0) / shear_value / np.sqrt(nsims)\n",
    "cbias = res[2] / res[3]\n",
    "cerr = err[2] / res[3] / np.sqrt(nsims)"
   ]
  },
  {
   "cell_type": "code",
   "execution_count": 83,
   "id": "e0053db1-7a51-4c80-a93a-5bc8983592f9",
   "metadata": {},
   "outputs": [
    {
     "data": {
      "text/plain": [
       "0.007588706996842533"
      ]
     },
     "execution_count": 83,
     "metadata": {},
     "output_type": "execute_result"
    }
   ],
   "source": [
    "mbias"
   ]
  },
  {
   "cell_type": "code",
   "execution_count": 84,
   "id": "272db133-692d-4e94-8029-d6d16ba57321",
   "metadata": {},
   "outputs": [
    {
     "data": {
      "text/plain": [
       "0.004067630272799225"
      ]
     },
     "execution_count": 84,
     "metadata": {},
     "output_type": "execute_result"
    }
   ],
   "source": [
    "merr"
   ]
  },
  {
   "cell_type": "code",
   "execution_count": 85,
   "id": "b5c41e87-79c5-4dfe-9bf5-e02ada638702",
   "metadata": {},
   "outputs": [
    {
     "data": {
      "text/plain": [
       "-2.340208786401469e-05"
      ]
     },
     "execution_count": 85,
     "metadata": {},
     "output_type": "execute_result"
    }
   ],
   "source": [
    "cbias"
   ]
  },
  {
   "cell_type": "code",
   "execution_count": 86,
   "id": "d8e2f75e-e152-4856-a164-7613d0e97c7f",
   "metadata": {},
   "outputs": [
    {
     "data": {
      "text/plain": [
       "2.2464439264111942e-05"
      ]
     },
     "execution_count": 86,
     "metadata": {},
     "output_type": "execute_result"
    }
   ],
   "source": [
    "cerr"
   ]
  }
 ],
 "metadata": {
  "kernelspec": {
   "display_name": "Python 3 (ipykernel)",
   "language": "python",
   "name": "python3"
  },
  "language_info": {
   "codemirror_mode": {
    "name": "ipython",
    "version": 3
   },
   "file_extension": ".py",
   "mimetype": "text/x-python",
   "name": "python",
   "nbconvert_exporter": "python",
   "pygments_lexer": "ipython3",
   "version": "3.8.15"
  }
 },
 "nbformat": 4,
 "nbformat_minor": 5
}
