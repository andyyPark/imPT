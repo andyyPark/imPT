{
 "cells": [
  {
   "cell_type": "code",
   "execution_count": 1,
   "id": "0d8603a7-5f1d-4149-afae-6ca6873f8d40",
   "metadata": {},
   "outputs": [],
   "source": [
    "%load_ext autoreload\n",
    "%autoreload 2\n",
    "%matplotlib inline\n",
    "\n",
    "import glob\n",
    "import os\n",
    "import fpfs\n",
    "import fitsio\n",
    "import impt"
   ]
  },
  {
   "cell_type": "code",
   "execution_count": 2,
   "id": "dcb6859d-a250-48f3-8e85-6c8ee4235d01",
   "metadata": {},
   "outputs": [],
   "source": [
    "fnames = glob.glob('./summary2_output/*.fits')"
   ]
  },
  {
   "cell_type": "code",
   "execution_count": 3,
   "id": "4cfa695e-5238-49cb-ad67-2e234bb90116",
   "metadata": {},
   "outputs": [],
   "source": [
    "nsims = len(fnames)\n",
    "out = np.zeros((nsims, 4))\n",
    "for ii,ff in enumerate(fnames):\n",
    "    out[ii] = fitsio.read(ff)[0:4,0]"
   ]
  },
  {
   "cell_type": "code",
   "execution_count": 4,
   "id": "b80f398b-7c6e-402c-ac3a-3aba6533eb66",
   "metadata": {},
   "outputs": [],
   "source": [
    "shear_value = 0.02\n",
    "res = np.average(out, axis=0)\n",
    "err = np.std(out, axis=0)\n",
    "mbias = (res[1] / res[3] / 2.0 - shear_value) / shear_value\n",
    "merr = (err[1] / res[3] / 2.0) / shear_value / np.sqrt(nsims)\n",
    "cbias = res[2] / res[3]\n",
    "cerr = err[2] / res[3] / np.sqrt(nsims)"
   ]
  },
  {
   "cell_type": "code",
   "execution_count": 5,
   "id": "e0053db1-7a51-4c80-a93a-5bc8983592f9",
   "metadata": {},
   "outputs": [
    {
     "data": {
      "text/plain": [
       "0.0030692227262920854"
      ]
     },
     "execution_count": 5,
     "metadata": {},
     "output_type": "execute_result"
    }
   ],
   "source": [
    "mbias"
   ]
  },
  {
   "cell_type": "code",
   "execution_count": 6,
   "id": "272db133-692d-4e94-8029-d6d16ba57321",
   "metadata": {},
   "outputs": [
    {
     "data": {
      "text/plain": [
       "0.0024809998837546266"
      ]
     },
     "execution_count": 6,
     "metadata": {},
     "output_type": "execute_result"
    }
   ],
   "source": [
    "merr"
   ]
  },
  {
   "cell_type": "code",
   "execution_count": 7,
   "id": "b5c41e87-79c5-4dfe-9bf5-e02ada638702",
   "metadata": {},
   "outputs": [
    {
     "data": {
      "text/plain": [
       "-8.011694112494161e-06"
      ]
     },
     "execution_count": 7,
     "metadata": {},
     "output_type": "execute_result"
    }
   ],
   "source": [
    "cbias"
   ]
  },
  {
   "cell_type": "code",
   "execution_count": 8,
   "id": "d8e2f75e-e152-4856-a164-7613d0e97c7f",
   "metadata": {},
   "outputs": [
    {
     "data": {
      "text/plain": [
       "3.6687273609684466e-05"
      ]
     },
     "execution_count": 8,
     "metadata": {},
     "output_type": "execute_result"
    }
   ],
   "source": [
    "cerr"
   ]
  }
 ],
 "metadata": {
  "kernelspec": {
   "display_name": "Python 3 (ipykernel)",
   "language": "python",
   "name": "python3"
  },
  "language_info": {
   "codemirror_mode": {
    "name": "ipython",
    "version": 3
   },
   "file_extension": ".py",
   "mimetype": "text/x-python",
   "name": "python",
   "nbconvert_exporter": "python",
   "pygments_lexer": "ipython3",
   "version": "3.8.15"
  }
 },
 "nbformat": 4,
 "nbformat_minor": 5
}
