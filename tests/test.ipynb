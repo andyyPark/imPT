{
 "cells": [
  {
   "cell_type": "code",
   "execution_count": 1,
   "id": "84f56f97-3018-4c76-b0e4-16623532e54a",
   "metadata": {},
   "outputs": [],
   "source": [
    "%load_ext autoreload\n",
    "%autoreload 2\n",
    "%matplotlib inline"
   ]
  },
  {
   "cell_type": "code",
   "execution_count": 2,
   "id": "8b5e079c-f850-4c7f-b742-2ac965df74a4",
   "metadata": {},
   "outputs": [],
   "source": [
    "import lensPT as lpt"
   ]
  },
  {
   "cell_type": "code",
   "execution_count": 3,
   "id": "0beb1d3e-1b33-449f-b138-ac80f6173a54",
   "metadata": {},
   "outputs": [
    {
     "data": {
      "text/plain": [
       "<lensPT.fpfs.weighted_e1 at 0x2ab77ba1fc40>"
      ]
     },
     "execution_count": 3,
     "metadata": {},
     "output_type": "execute_result"
    }
   ],
   "source": [
    "lpt.fpfs.weighted_e1(Const=1.)"
   ]
  },
  {
   "cell_type": "code",
   "execution_count": 4,
   "id": "68237167-e10f-4660-8e2f-9c4341a5d58f",
   "metadata": {},
   "outputs": [],
   "source": [
    "cat=lpt.observable.Catalog('./fpfs-cut32-0000-g1-0000.fits',mode_names=['fpfs_M00', 'fpfs_M22c'])"
   ]
  },
  {
   "cell_type": "code",
   "execution_count": 5,
   "id": "358b5e56-fdf5-4363-a3d5-075d1d8a08c6",
   "metadata": {},
   "outputs": [],
   "source": [
    "cat=lpt.observable.Catalog('./fpfs-cut32-0000-g1-0000.fits')"
   ]
  },
  {
   "cell_type": "code",
   "execution_count": 7,
   "id": "f13d046d-6a67-4c69-be2c-dd0a6997bdb9",
   "metadata": {},
   "outputs": [
    {
     "data": {
      "text/plain": [
       "<lensPT.fpfs.weighted_e1 at 0x2ab77ba601c0>"
      ]
     },
     "execution_count": 7,
     "metadata": {},
     "output_type": "execute_result"
    }
   ],
   "source": [
    "lpt.fpfs.weighted_e1(Const=1.)"
   ]
  },
  {
   "cell_type": "code",
   "execution_count": null,
   "id": "805421c5-d0fb-4e74-bc15-1aa3834cc02c",
   "metadata": {},
   "outputs": [],
   "source": []
  }
 ],
 "metadata": {
  "kernelspec": {
   "display_name": "Python 3 (ipykernel)",
   "language": "python",
   "name": "python3"
  },
  "language_info": {
   "codemirror_mode": {
    "name": "ipython",
    "version": 3
   },
   "file_extension": ".py",
   "mimetype": "text/x-python",
   "name": "python",
   "nbconvert_exporter": "python",
   "pygments_lexer": "ipython3",
   "version": "3.10.6"
  }
 },
 "nbformat": 4,
 "nbformat_minor": 5
}
