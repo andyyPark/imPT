{
 "cells": [
  {
   "cell_type": "code",
   "execution_count": 1,
   "id": "84f56f97-3018-4c76-b0e4-16623532e54a",
   "metadata": {},
   "outputs": [],
   "source": [
    "%load_ext autoreload\n",
    "%autoreload 2\n",
    "%matplotlib inline"
   ]
  },
  {
   "cell_type": "code",
   "execution_count": 2,
   "id": "8b5e079c-f850-4c7f-b742-2ac965df74a4",
   "metadata": {},
   "outputs": [],
   "source": [
    "import fpfs\n",
    "import fitsio\n",
    "import lensPT as lpt"
   ]
  },
  {
   "cell_type": "code",
   "execution_count": 3,
   "id": "358b5e56-fdf5-4363-a3d5-075d1d8a08c6",
   "metadata": {},
   "outputs": [],
   "source": [
    "cat=lpt.observable.Catalog('./fpfs-cut32-0000-g1-0000.fits',mode_names=['fpfs_M00', 'fpfs_M22c'])\n",
    "nms=[\n",
    "    \"fpfs_M00\",\n",
    "    \"fpfs_M20\",\n",
    "    \"fpfs_M22c\",\n",
    "    \"fpfs_M22s\",\n",
    "    \"fpfs_M40\",\n",
    "    \"fpfs_M42c\",\n",
    "    \"fpfs_M42s\",\n",
    "]\n",
    "cat=lpt.observable.Catalog('./fpfs-cut32-0000-g1-0000.fits', mode_names=nms)"
   ]
  },
  {
   "cell_type": "code",
   "execution_count": 4,
   "id": "2d1d900b-d565-4cef-8822-1cccf2f74f65",
   "metadata": {},
   "outputs": [],
   "source": [
    "data=fitsio.read('./fpfs-cut32-0000-g1-0000.fits')\n",
    "ell_fpfs=fpfs.catalog.fpfsM2E(data, const=1., noirev=False)"
   ]
  },
  {
   "cell_type": "code",
   "execution_count": 5,
   "id": "2008bb60-2850-4724-83fe-a99469b5d01e",
   "metadata": {},
   "outputs": [
    {
     "name": "stderr",
     "output_type": "stream",
     "text": [
      "WARNING:absl:No GPU/TPU found, falling back to CPU. (Set TF_CPP_MIN_LOG_LEVEL=0 and rerun for more info.)\n"
     ]
    }
   ],
   "source": [
    "ell1=lpt.fpfs.weighted_e1(Const=1.)\n",
    "np.testing.assert_array_almost_equal(ell1.evaluate(cat), ell_fpfs['fpfs_e1'])"
   ]
  },
  {
   "cell_type": "code",
   "execution_count": 6,
   "id": "df5efa2e-3f36-491c-9797-64123f748e9c",
   "metadata": {},
   "outputs": [],
   "source": [
    "ell2=lpt.fpfs.weighted_e2(Const=1.)\n",
    "np.testing.assert_array_almost_equal(ell2.evaluate(cat), ell_fpfs['fpfs_e2'])"
   ]
  },
  {
   "cell_type": "code",
   "execution_count": 7,
   "id": "f13d046d-6a67-4c69-be2c-dd0a6997bdb9",
   "metadata": {},
   "outputs": [],
   "source": [
    "ell1=lpt.fpfs.weighted_e1(Const=1.)\n",
    "out=ell1.grad(cat)"
   ]
  },
  {
   "cell_type": "code",
   "execution_count": 9,
   "id": "805421c5-d0fb-4e74-bc15-1aa3834cc02c",
   "metadata": {},
   "outputs": [],
   "source": [
    "de1_dg=lpt.shear.g1_perturb1(ell1)"
   ]
  },
  {
   "cell_type": "code",
   "execution_count": 11,
   "id": "e59e4721-3ba4-4170-9c5a-75197438b229",
   "metadata": {},
   "outputs": [
    {
     "data": {
      "text/plain": [
       "DeviceArray([0.5365309 , 0.6007364 , 0.55466986, 0.5182238 , 0.20568703,\n",
       "             0.22068772, 0.60877126, 0.49258608, 0.19432965, 0.39988846,\n",
       "             0.35168684, 0.03258118, 0.01764065, 0.06337552, 0.3818177 ,\n",
       "             0.43415663, 0.19165999, 0.68620104, 0.25074342, 0.1636867 ,\n",
       "             0.51826924, 0.2998649 , 0.28027195, 0.771266  , 0.516155  ,\n",
       "             0.04816369, 0.41815886, 0.2314344 , 0.2886483 , 0.22434546],            dtype=float32)"
      ]
     },
     "execution_count": 11,
     "metadata": {},
     "output_type": "execute_result"
    }
   ],
   "source": [
    "de1_dg.evaluate(cat)"
   ]
  },
  {
   "cell_type": "code",
   "execution_count": null,
   "id": "088b1742-d7ab-4ae2-a8f9-8762521adfc3",
   "metadata": {},
   "outputs": [],
   "source": []
  }
 ],
 "metadata": {
  "kernelspec": {
   "display_name": "Python 3 (ipykernel)",
   "language": "python",
   "name": "python3"
  },
  "language_info": {
   "codemirror_mode": {
    "name": "ipython",
    "version": 3
   },
   "file_extension": ".py",
   "mimetype": "text/x-python",
   "name": "python",
   "nbconvert_exporter": "python",
   "pygments_lexer": "ipython3",
   "version": "3.10.6"
  }
 },
 "nbformat": 4,
 "nbformat_minor": 5
}
