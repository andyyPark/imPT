{
 "cells": [
  {
   "cell_type": "code",
   "execution_count": 1,
   "id": "84f56f97-3018-4c76-b0e4-16623532e54a",
   "metadata": {},
   "outputs": [],
   "source": [
    "%load_ext autoreload\n",
    "%autoreload 2\n",
    "%matplotlib inline"
   ]
  },
  {
   "cell_type": "code",
   "execution_count": 24,
   "id": "8b5e079c-f850-4c7f-b742-2ac965df74a4",
   "metadata": {},
   "outputs": [],
   "source": [
    "import fpfs\n",
    "import fitsio\n",
    "import lensPT as lpt"
   ]
  },
  {
   "cell_type": "code",
   "execution_count": 15,
   "id": "358b5e56-fdf5-4363-a3d5-075d1d8a08c6",
   "metadata": {},
   "outputs": [],
   "source": [
    "cat=lpt.observable.Catalog('./fpfs-cut32-0000-g1-0000.fits',mode_names=['fpfs_M00', 'fpfs_M22c'])\n",
    "nms=[\n",
    "    \"fpfs_M00\",\n",
    "    \"fpfs_M20\",\n",
    "    \"fpfs_M22c\",\n",
    "    \"fpfs_M22s\",\n",
    "    \"fpfs_M40\",\n",
    "    \"fpfs_M42c\",\n",
    "    \"fpfs_M42s\",\n",
    "]\n",
    "cat=lpt.observable.Catalog('./fpfs-cut32-0000-g1-0000.fits', mode_names=nms)"
   ]
  },
  {
   "cell_type": "code",
   "execution_count": 28,
   "id": "0cc8ce4e-d144-4ff9-b66b-c4b64ac2095a",
   "metadata": {},
   "outputs": [
    {
     "data": {
      "text/plain": [
       "('fpfs_e1',\n",
       " 'fpfs_e2',\n",
       " 'fpfs_ee',\n",
       " 'fpfs_s0',\n",
       " 'fpfs_s2',\n",
       " 'fpfs_s4',\n",
       " 'fpfs_R1E',\n",
       " 'fpfs_R2E',\n",
       " 'fpfs_RS0',\n",
       " 'fpfs_RS2',\n",
       " 'fpfs_R1Sv0',\n",
       " 'fpfs_R2Sv0',\n",
       " 'fpfs_R1Sv1',\n",
       " 'fpfs_R2Sv1',\n",
       " 'fpfs_R1Sv2',\n",
       " 'fpfs_R2Sv2',\n",
       " 'fpfs_R1Sv3',\n",
       " 'fpfs_R2Sv3',\n",
       " 'fpfs_R1Sv4',\n",
       " 'fpfs_R2Sv4',\n",
       " 'fpfs_R1Sv5',\n",
       " 'fpfs_R2Sv5',\n",
       " 'fpfs_R1Sv6',\n",
       " 'fpfs_R2Sv6',\n",
       " 'fpfs_R1Sv7',\n",
       " 'fpfs_R2Sv7')"
      ]
     },
     "execution_count": 28,
     "metadata": {},
     "output_type": "execute_result"
    }
   ],
   "source": [
    "ell_fpfs.dtype.names"
   ]
  },
  {
   "cell_type": "code",
   "execution_count": 34,
   "id": "2d1d900b-d565-4cef-8822-1cccf2f74f65",
   "metadata": {},
   "outputs": [],
   "source": [
    "data=fitsio.read('./fpfs-cut32-0000-g1-0000.fits')\n",
    "ell_fpfs=fpfs.catalog.fpfsM2E(data, const=1., noirev=False)"
   ]
  },
  {
   "cell_type": "code",
   "execution_count": 37,
   "id": "2008bb60-2850-4724-83fe-a99469b5d01e",
   "metadata": {},
   "outputs": [],
   "source": [
    "ell1=lpt.fpfs.weighted_e1(Const=1.)\n",
    "np.testing.assert_array_almost_equal(ell1.evaluate(cat), ell_fpfs['fpfs_e1'])"
   ]
  },
  {
   "cell_type": "code",
   "execution_count": 40,
   "id": "df5efa2e-3f36-491c-9797-64123f748e9c",
   "metadata": {},
   "outputs": [],
   "source": [
    "ell2=lpt.fpfs.weighted_e2(Const=1.)\n",
    "np.testing.assert_array_almost_equal(ell2.evaluate(cat), ell_fpfs['fpfs_e2'])"
   ]
  },
  {
   "cell_type": "code",
   "execution_count": 17,
   "id": "f13d046d-6a67-4c69-be2c-dd0a6997bdb9",
   "metadata": {},
   "outputs": [],
   "source": [
    "ell1=lpt.fpfs.weighted_e1(Const=1.)\n",
    "out=ell1.grad(cat)"
   ]
  },
  {
   "cell_type": "code",
   "execution_count": 22,
   "id": "805421c5-d0fb-4e74-bc15-1aa3834cc02c",
   "metadata": {},
   "outputs": [
    {
     "ename": "AttributeError",
     "evalue": "'weighted_e1' object has no attribute 'mode_names'",
     "output_type": "error",
     "traceback": [
      "\u001b[0;31m---------------------------------------------------------------------------\u001b[0m",
      "\u001b[0;31mAttributeError\u001b[0m                            Traceback (most recent call last)",
      "Cell \u001b[0;32mIn [22], line 1\u001b[0m\n\u001b[0;32m----> 1\u001b[0m \u001b[43mlpt\u001b[49m\u001b[38;5;241;43m.\u001b[39;49m\u001b[43mshear\u001b[49m\u001b[38;5;241;43m.\u001b[39;49m\u001b[43mg1_perturb1\u001b[49m\u001b[43m(\u001b[49m\u001b[43mell1\u001b[49m\u001b[43m)\u001b[49m\n",
      "File \u001b[0;32m/lustre/work/xiangchong.li/superonionIDark/code/lensPT/lensPT/shear.py:61\u001b[0m, in \u001b[0;36mg1_perturb1.__init__\u001b[0;34m(self, parent_obj)\u001b[0m\n\u001b[1;32m     59\u001b[0m \u001b[38;5;28;01mdef\u001b[39;00m \u001b[38;5;21m__init__\u001b[39m(\u001b[38;5;28mself\u001b[39m, parent_obj):\n\u001b[1;32m     60\u001b[0m     \u001b[38;5;124;03m\"\"\"Initializes shear response object using an ObsObject\"\"\"\u001b[39;00m\n\u001b[0;32m---> 61\u001b[0m     \u001b[38;5;28;43msuper\u001b[39;49m\u001b[43m(\u001b[49m\u001b[43mg1_perturb1\u001b[49m\u001b[43m,\u001b[49m\u001b[43m \u001b[49m\u001b[38;5;28;43mself\u001b[39;49m\u001b[43m)\u001b[49m\u001b[38;5;241;43m.\u001b[39;49m\u001b[38;5;21;43m__init__\u001b[39;49m\u001b[43m(\u001b[49m\u001b[43mparent_obj\u001b[49m\u001b[43m)\u001b[49m\n\u001b[1;32m     62\u001b[0m     \u001b[38;5;28;01mreturn\u001b[39;00m\n",
      "File \u001b[0;32m/lustre/work/xiangchong.li/superonionIDark/code/lensPT/lensPT/shear.py:33\u001b[0m, in \u001b[0;36mGperturb1.__init__\u001b[0;34m(self, parent_obj)\u001b[0m\n\u001b[1;32m     31\u001b[0m \u001b[38;5;28;01mif\u001b[39;00m \u001b[38;5;129;01mnot\u001b[39;00m \u001b[38;5;28mhasattr\u001b[39m(parent_obj, \u001b[38;5;124m\"\u001b[39m\u001b[38;5;124mdm_dg\u001b[39m\u001b[38;5;124m\"\u001b[39m):\n\u001b[1;32m     32\u001b[0m     \u001b[38;5;28;01mraise\u001b[39;00m \u001b[38;5;167;01mValueError\u001b[39;00m(\u001b[38;5;124m\"\u001b[39m\u001b[38;5;124minput parent_obj should have shear response\u001b[39m\u001b[38;5;124m\"\u001b[39m)\n\u001b[0;32m---> 33\u001b[0m \u001b[38;5;28;43mself\u001b[39;49m\u001b[38;5;241;43m.\u001b[39;49m\u001b[43mupdate_parent\u001b[49m\u001b[43m(\u001b[49m\u001b[43mparent_obj\u001b[49m\u001b[43m)\u001b[49m\n\u001b[1;32m     34\u001b[0m \u001b[38;5;28;01mreturn\u001b[39;00m\n",
      "File \u001b[0;32m/lustre/work/xiangchong.li/superonionIDark/code/lensPT/lensPT/shear.py:38\u001b[0m, in \u001b[0;36mGperturb1.update_parent\u001b[0;34m(self, parent_obj)\u001b[0m\n\u001b[1;32m     36\u001b[0m \u001b[38;5;28;01mdef\u001b[39;00m \u001b[38;5;21mupdate_parent\u001b[39m(\u001b[38;5;28mself\u001b[39m, parent_obj):\n\u001b[1;32m     37\u001b[0m     \u001b[38;5;124;03m\"\"\"Updates the observable funciton with a parent parent_obj.\"\"\"\u001b[39;00m\n\u001b[0;32m---> 38\u001b[0m     \u001b[38;5;28mself\u001b[39m\u001b[38;5;241m.\u001b[39mmode_names \u001b[38;5;241m=\u001b[39m \u001b[38;5;28mlist\u001b[39m(\u001b[38;5;28mset\u001b[39m(\u001b[43mparent_obj\u001b[49m\u001b[38;5;241;43m.\u001b[39;49m\u001b[43mmode_names\u001b[49m) \u001b[38;5;241m|\u001b[39m \u001b[38;5;28mset\u001b[39m(parent_obj\u001b[38;5;241m.\u001b[39mdmode_names))\n\u001b[1;32m     39\u001b[0m     \u001b[38;5;28mself\u001b[39m\u001b[38;5;241m.\u001b[39mparent_obj \u001b[38;5;241m=\u001b[39m parent_obj\n\u001b[1;32m     40\u001b[0m     \u001b[38;5;28;01mreturn\u001b[39;00m\n",
      "\u001b[0;31mAttributeError\u001b[0m: 'weighted_e1' object has no attribute 'mode_names'"
     ]
    }
   ],
   "source": [
    "lpt.shear.g1_perturb1(ell1)"
   ]
  },
  {
   "cell_type": "code",
   "execution_count": 18,
   "id": "dc1c2370-8840-448a-a259-622d31afbc71",
   "metadata": {},
   "outputs": [
    {
     "data": {
      "text/plain": [
       "(30, 7)"
      ]
     },
     "execution_count": 18,
     "metadata": {},
     "output_type": "execute_result"
    }
   ],
   "source": [
    "out.shape"
   ]
  },
  {
   "cell_type": "code",
   "execution_count": 20,
   "id": "8a8fd1b0-f4dd-44e7-afed-373bcd02dfc2",
   "metadata": {},
   "outputs": [
    {
     "data": {
      "text/plain": [
       "DeviceArray([0.01642991, 0.        , 0.19617349, 0.        , 0.        ,\n",
       "             0.        , 0.        ], dtype=float32)"
      ]
     },
     "execution_count": 20,
     "metadata": {},
     "output_type": "execute_result"
    }
   ],
   "source": [
    "out[0]"
   ]
  },
  {
   "cell_type": "code",
   "execution_count": 13,
   "id": "af330e34-c724-4db9-94a2-5a65436071c2",
   "metadata": {},
   "outputs": [
    {
     "data": {
      "text/plain": [
       "113"
      ]
     },
     "execution_count": 13,
     "metadata": {},
     "output_type": "execute_result"
    }
   ],
   "source": [
    "len(cat.mode_names)"
   ]
  }
 ],
 "metadata": {
  "kernelspec": {
   "display_name": "Python 3 (ipykernel)",
   "language": "python",
   "name": "python3"
  },
  "language_info": {
   "codemirror_mode": {
    "name": "ipython",
    "version": 3
   },
   "file_extension": ".py",
   "mimetype": "text/x-python",
   "name": "python",
   "nbconvert_exporter": "python",
   "pygments_lexer": "ipython3",
   "version": "3.10.6"
  }
 },
 "nbformat": 4,
 "nbformat_minor": 5
}
