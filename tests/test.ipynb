{
 "cells": [
  {
   "cell_type": "code",
   "execution_count": 1,
   "id": "84f56f97-3018-4c76-b0e4-16623532e54a",
   "metadata": {},
   "outputs": [],
   "source": [
    "%load_ext autoreload\n",
    "%autoreload 2\n",
    "%matplotlib inline"
   ]
  },
  {
   "cell_type": "code",
   "execution_count": 2,
   "id": "8b5e079c-f850-4c7f-b742-2ac965df74a4",
   "metadata": {},
   "outputs": [],
   "source": [
    "import fpfs\n",
    "import fitsio\n",
    "import lensPT as lpt"
   ]
  },
  {
   "cell_type": "code",
   "execution_count": 3,
   "id": "358b5e56-fdf5-4363-a3d5-075d1d8a08c6",
   "metadata": {},
   "outputs": [],
   "source": [
    "cat=lpt.observable.Catalog('./fpfs-cut32-0000-g1-0000.fits',mode_names=['fpfs_M00', 'fpfs_M22c'])\n",
    "nms=[\n",
    "    \"fpfs_M00\",\n",
    "    \"fpfs_M20\",\n",
    "    \"fpfs_M22c\",\n",
    "    \"fpfs_M22s\",\n",
    "    \"fpfs_M40\",\n",
    "    \"fpfs_M42c\",\n",
    "    \"fpfs_M42s\",\n",
    "]\n",
    "cat=lpt.observable.Catalog('./fpfs-cut32-0000-g1-0000.fits', mode_names=nms)"
   ]
  },
  {
   "cell_type": "code",
   "execution_count": 4,
   "id": "2d1d900b-d565-4cef-8822-1cccf2f74f65",
   "metadata": {},
   "outputs": [],
   "source": [
    "data=fitsio.read('./fpfs-cut32-0000-g1-0000.fits')\n",
    "ell_fpfs=fpfs.catalog.fpfsM2E(data, const=1., noirev=False)"
   ]
  },
  {
   "cell_type": "code",
   "execution_count": 23,
   "id": "2008bb60-2850-4724-83fe-a99469b5d01e",
   "metadata": {},
   "outputs": [],
   "source": [
    "ell1=lpt.fpfs.weighted_e1(Const=1.)\n",
    "np.testing.assert_array_almost_equal(ell1.evaluate(cat), ell_fpfs['fpfs_e1'])\n",
    "\n",
    "ell2=lpt.fpfs.weighted_e2(Const=1.)\n",
    "np.testing.assert_array_almost_equal(ell2.evaluate(cat), ell_fpfs['fpfs_e2'])"
   ]
  },
  {
   "cell_type": "code",
   "execution_count": 24,
   "id": "805421c5-d0fb-4e74-bc15-1aa3834cc02c",
   "metadata": {},
   "outputs": [],
   "source": [
    "de1_dg=lpt.shear.g1_perturb1(ell1)\n",
    "np.testing.assert_array_almost_equal(de1_dg.evaluate(cat), ell_fpfs['fpfs_R1E'])\n",
    "de2_dg=lpt.shear.g2_perturb1(ell2)\n",
    "np.testing.assert_array_almost_equal(de2_dg.evaluate(cat), ell_fpfs['fpfs_R2E'])"
   ]
  },
  {
   "cell_type": "code",
   "execution_count": 26,
   "id": "e59e4721-3ba4-4170-9c5a-75197438b229",
   "metadata": {},
   "outputs": [
    {
     "data": {
      "text/plain": [
       "DeviceArray([-2.0443629e-02, -1.9980099e-02,  3.8605412e-03,\n",
       "              8.9093698e-03,  3.8315693e-03, -3.1614301e-04,\n",
       "             -1.4659713e-03, -1.6872744e-03, -3.5665513e-03,\n",
       "              5.4947715e-03,  1.4362693e-03,  3.8454324e-02,\n",
       "              4.1667387e-02,  6.4823106e-02, -4.8193251e-04,\n",
       "             -6.2746005e-03, -8.2711643e-03,  6.2288171e-05,\n",
       "             -6.3474476e-03,  4.9076444e-03, -2.0742211e-02,\n",
       "             -2.6656084e-03, -3.1420225e-03, -1.3198294e-02,\n",
       "             -2.0027472e-02,  1.2632523e-04,  8.0843242e-03,\n",
       "              2.9222539e-04,  7.2754879e-04,  4.6913136e-02],            dtype=float32)"
      ]
     },
     "execution_count": 26,
     "metadata": {},
     "output_type": "execute_result"
    }
   ],
   "source": [
    "lpt.shear.g2_perturb1(ell1).evaluate(cat)"
   ]
  },
  {
   "cell_type": "code",
   "execution_count": 21,
   "id": "088b1742-d7ab-4ae2-a8f9-8762521adfc3",
   "metadata": {},
   "outputs": [
    {
     "data": {
      "text/plain": [
       "array([0.5365309 , 0.60073639, 0.55466984, 0.51822383, 0.20568703,\n",
       "       0.22068772, 0.60877123, 0.4925861 , 0.19432963, 0.39988843,\n",
       "       0.35168683, 0.03258118, 0.01764065, 0.06337552, 0.38181768,\n",
       "       0.43415663, 0.19165998, 0.68620104, 0.25074342, 0.1636867 ,\n",
       "       0.51826924, 0.29986489, 0.28027197, 0.77126594, 0.51615504,\n",
       "       0.04816369, 0.41815881, 0.2314344 , 0.28864829, 0.22434546])"
      ]
     },
     "execution_count": 21,
     "metadata": {},
     "output_type": "execute_result"
    }
   ],
   "source": []
  },
  {
   "cell_type": "code",
   "execution_count": 19,
   "id": "ce988823-78f0-4238-9f02-a788450e468a",
   "metadata": {},
   "outputs": [
    {
     "data": {
      "text/plain": [
       "DeviceArray([0.19617349, 0.19978626, 0.12464886, 0.12476494, 0.17730156,\n",
       "             0.17360353, 0.18234405, 0.17824766, 0.04698408, 0.08552601,\n",
       "             0.05247934, 0.10805685, 0.10582086, 0.10381842, 0.02944354,\n",
       "             0.0295583 , 0.10027365, 0.02886714, 0.10028466, 0.14047427,\n",
       "             0.01404144, 0.0938367 , 0.11277071, 0.13327485, 0.13354631,\n",
       "             0.190909  , 0.19802819, 0.09716644, 0.01391387, 0.18941315],            dtype=float32)"
      ]
     },
     "execution_count": 19,
     "metadata": {},
     "output_type": "execute_result"
    }
   ],
   "source": [
    "ell1.grad(cat)[:,2]"
   ]
  },
  {
   "cell_type": "code",
   "execution_count": 14,
   "id": "e0e98828-ca0e-445a-8f70-4cfd1234c0bc",
   "metadata": {},
   "outputs": [
    {
     "data": {
      "text/plain": [
       "['fpfs_M00',\n",
       " 'fpfs_M20',\n",
       " 'fpfs_M22c',\n",
       " 'fpfs_M22s',\n",
       " 'fpfs_M40',\n",
       " 'fpfs_M42c',\n",
       " 'fpfs_M42s']"
      ]
     },
     "execution_count": 14,
     "metadata": {},
     "output_type": "execute_result"
    }
   ],
   "source": [
    "cat.mode_names"
   ]
  },
  {
   "cell_type": "code",
   "execution_count": 20,
   "id": "8b300b74-5b9d-4296-b80c-e32adbac5307",
   "metadata": {},
   "outputs": [
    {
     "data": {
      "text/plain": [
       "array([0.19617348, 0.19978626, 0.12464886, 0.12476494, 0.17730155,\n",
       "       0.17360353, 0.18234405, 0.17824766, 0.04698408, 0.08552601,\n",
       "       0.05247934, 0.10805685, 0.10582086, 0.10381842, 0.02944354,\n",
       "       0.0295583 , 0.10027365, 0.02886714, 0.10028466, 0.14047428,\n",
       "       0.01404144, 0.0938367 , 0.11277071, 0.13327485, 0.13354631,\n",
       "       0.190909  , 0.19802819, 0.09716644, 0.01391387, 0.18941314])"
      ]
     },
     "execution_count": 20,
     "metadata": {},
     "output_type": "execute_result"
    }
   ],
   "source": [
    "1./(cat.data[:,0]+1.)"
   ]
  },
  {
   "cell_type": "code",
   "execution_count": null,
   "id": "99ac9c0c-3097-4a48-8a8a-c2acd41c3108",
   "metadata": {},
   "outputs": [],
   "source": []
  }
 ],
 "metadata": {
  "kernelspec": {
   "display_name": "Python 3 (ipykernel)",
   "language": "python",
   "name": "python3"
  },
  "language_info": {
   "codemirror_mode": {
    "name": "ipython",
    "version": 3
   },
   "file_extension": ".py",
   "mimetype": "text/x-python",
   "name": "python",
   "nbconvert_exporter": "python",
   "pygments_lexer": "ipython3",
   "version": "3.10.6"
  }
 },
 "nbformat": 4,
 "nbformat_minor": 5
}
