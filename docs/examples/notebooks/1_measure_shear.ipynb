{
 "cells": [
  {
   "cell_type": "code",
   "execution_count": 1,
   "id": "d03db39a-a790-4037-b03e-87635e2d1f36",
   "metadata": {},
   "outputs": [],
   "source": [
    "%load_ext autoreload\n",
    "%autoreload 2\n",
    "%matplotlib inline\n",
    "\n",
    "\n",
    "import gc\n",
    "import os \n",
    "import sys\n",
    "sys.path.insert(0, \"/Users/andypark/Desktop/PhD/fpfs\")\n",
    "import fpfs\n",
    "import impt\n",
    "import fitsio\n",
    "import galsim\n",
    "import numpy as np\n",
    "import matplotlib.pylab as plt\n",
    "from astropy.visualization import simple_norm\n",
    "from mpl_toolkits.axes_grid1 import ImageGrid\n",
    "\n",
    "import matplotlib as mpl\n",
    "mpl.rcParams['axes.linewidth'] = 2.0 #set the value globally"
   ]
  },
  {
   "cell_type": "markdown",
   "id": "a9b59ba8-fcc8-4345-bed6-72f3e6d4b91f",
   "metadata": {},
   "source": [
    "# README\n",
    "This notebook show the test on isolated galaxies (center known)"
   ]
  },
  {
   "cell_type": "code",
   "execution_count": 2,
   "id": "5735e2a3-89d2-4f2f-934c-517e8771d357",
   "metadata": {},
   "outputs": [
    {
     "name": "stderr",
     "output_type": "stream",
     "text": [
      "2023/04/15 13:27:44 ---  Processing for g1-2222, and shears for four redshift bins are [0.02 0.02 0.02 0.02].\n"
     ]
    },
    {
     "name": "stdout",
     "output_type": "stream",
     "text": [
      "Making Basic Simulation. ID: 2\n"
     ]
    },
    {
     "data": {
      "text/plain": [
       "10"
      ]
     },
     "execution_count": 2,
     "metadata": {},
     "output_type": "execute_result"
    },
    {
     "data": {
      "image/png": "[encoded data removed]",
      "text/plain": [
       "<Figure size 640x480 with 1 Axes>"
      ]
     },
     "metadata": {},
     "output_type": "display_data"
    }
   ],
   "source": [
    "shear_value = 0.02\n",
    "scale = 0.168\n",
    "outDir='galaxy_basicCenter_psf60'\n",
    "psfInt = galsim.Moffat(\n",
    "    beta=3.5, fwhm=0.6, trunc=0.6 * 4.0\n",
    ").shear(e1=0.02, e2=-0.02)\n",
    "psfData = psfInt.shift(0.5 * scale, 0.5 * scale).drawImage(nx=64, ny=64, scale=scale).array\n",
    "\n",
    "# Four Galaxies to cancel spin-2 and spin-4 ansiotropies\n",
    "# spin-2 is shape noise in diagnonal elements of shear response matrix\n",
    "# spin-4 is shape noise in diagnonal and of-diagnoal elements of shear response matrix, \n",
    "# but an order of magnitude smaller than spin-2\n",
    "gal_data = fpfs.simutil.make_basic_sim(\n",
    "    outDir,psf_obj=psfInt,gname='g1-2222',\n",
    "    ind0=2,ny=64,nx=256, scale=scale,\n",
    "    do_write=False,return_array=True,\n",
    "    shear_value = shear_value)\n",
    "plt.close()\n",
    "plt.imshow(gal_data,aspect='equal',cmap='RdYlBu_r',origin='lower',interpolation='None',\\\n",
    "             norm=simple_norm(gal_data,'asinh',asinh_a=0.1,min_cut=-0.01,max_cut=0.3))\n",
    "gc.collect()"
   ]
  },
  {
   "cell_type": "code",
   "execution_count": 3,
   "id": "3af4cb42-bf5a-4418-819e-a73714d237ab",
   "metadata": {},
   "outputs": [],
   "source": [
    "# Now we measure shear\n",
    "rcut = 32\n",
    "\n",
    "# fake detection\n",
    "indX = np.arange(32, 256, 64)\n",
    "indY = np.arange(32, 64, 64)\n",
    "inds = np.meshgrid(indY, indX, indexing=\"ij\")\n",
    "coords = np.array(\n",
    "    np.zeros(inds[0].size),\n",
    "    dtype=[(\"fpfs_y\", \"i4\"), (\"fpfs_x\", \"i4\")],\n",
    ")\n",
    "coords[\"fpfs_y\"] = np.ravel(inds[0])\n",
    "coords[\"fpfs_x\"] = np.ravel(inds[1])\n",
    "imgList = [\n",
    "    gal_data[\n",
    "        cc[\"fpfs_y\"] - rcut : cc[\"fpfs_y\"] + rcut,\n",
    "        cc[\"fpfs_x\"] - rcut : cc[\"fpfs_x\"] + rcut,\n",
    "    ]\n",
    "    for cc in coords\n",
    "]"
   ]
  },
  {
   "cell_type": "markdown",
   "id": "76939338-8996-43ae-b16b-fb0351cc2982",
   "metadata": {},
   "source": [
    "# 2nd Order"
   ]
  },
  {
   "cell_type": "code",
   "execution_count": 4,
   "id": "cdb7bb27-e022-48d5-b246-50c8b60bb5df",
   "metadata": {},
   "outputs": [
    {
     "name": "stderr",
     "output_type": "stream",
     "text": [
      "2023/04/15 13:27:44 ---  Gaussian kernel in configuration space: sigma= 0.7000 arcsec\n"
     ]
    }
   ],
   "source": [
    "fpTask  =   fpfs.image.measure_source(psfData, sigma_arcsec=0.7, nnord=6)\n",
    "mms =  fpTask.measure(imgList)\n",
    "fitsio.write('a.fits', mms)"
   ]
  },
  {
   "cell_type": "code",
   "execution_count": 5,
   "id": "0e441596-8c5a-49b2-a78a-7d9fe4833cfe",
   "metadata": {},
   "outputs": [
    {
     "name": "stderr",
     "output_type": "stream",
     "text": [
      "2023/04/15 13:27:45 ---  Unable to initialize backend 'cuda': module 'jaxlib.xla_extension' has no attribute 'GpuAllocatorConfig'\n",
      "2023/04/15 13:27:45 ---  Unable to initialize backend 'rocm': module 'jaxlib.xla_extension' has no attribute 'GpuAllocatorConfig'\n",
      "2023/04/15 13:27:45 ---  Unable to initialize backend 'tpu': module 'jaxlib.xla_extension' has no attribute 'get_tpu_client'\n",
      "2023/04/15 13:27:45 ---  Unable to initialize backend 'plugin': xla_extension has no attributes named get_plugin_device_client. Compile TensorFlow with //tensorflow/compiler/xla/python:enable_plugin_device set to true (defaults to false) to enable this.\n"
     ]
    }
   ],
   "source": [
    "wconst = 2.0\n",
    "test_fname = \"a.fits\"\n",
    "cat = impt.fpfs4.read_catalog(test_fname)\n",
    "params = impt.fpfs4.FpfsParams(Const=wconst)\n",
    "\n",
    "# initialize the function of ellipticty\n",
    "ell1 = impt.fpfs4.nlobs.FpfsE1(params)\n",
    "ell2 = impt.fpfs4.nlobs.FpfsE2(params)"
   ]
  },
  {
   "cell_type": "code",
   "execution_count": 6,
   "id": "10c61286-d1a7-496e-b811-60d4d0821257",
   "metadata": {},
   "outputs": [
    {
     "name": "stdout",
     "output_type": "stream",
     "text": [
      "[ 0.02069742  0.12795444 -0.00482232 -0.11496067]\n",
      "[ 0.02069742  0.12795444 -0.00482232 -0.11496067]\n"
     ]
    }
   ],
   "source": [
    "e1_array = ell1.evaluate(cat)\n",
    "print(ell1.evaluate(cat))\n",
    "print(mms['fpfs_M22c']/(mms['fpfs_M00'] + wconst))"
   ]
  },
  {
   "cell_type": "code",
   "execution_count": 7,
   "id": "64731217-1d70-4f00-bf3e-d863e3218125",
   "metadata": {},
   "outputs": [
    {
     "name": "stdout",
     "output_type": "stream",
     "text": [
      "[0.35085413 0.37334159 0.35037852 0.36908162]\n"
     ]
    }
   ],
   "source": [
    "# shear response of e1\n",
    "de1_dg1 = impt.RespG1(ell1)\n",
    "resp_array = de1_dg1.evaluate(cat)\n",
    "print(resp_array)\n",
    "shear=np.average(e1_array)/np.average(resp_array)"
   ]
  },
  {
   "cell_type": "code",
   "execution_count": 8,
   "id": "5b3b6764-ac54-4eed-92b2-f1ecfa0d626c",
   "metadata": {},
   "outputs": [
    {
     "name": "stdout",
     "output_type": "stream",
     "text": [
      "Input shear is: 0.020000\n",
      "Estimated shear is: 0.019997\n"
     ]
    }
   ],
   "source": [
    "print('Input shear is: %.6f' %shear_value)\n",
    "print('Estimated shear is: %.6f' %shear)"
   ]
  },
  {
   "cell_type": "markdown",
   "id": "ba924a37-949b-47d3-856b-544e81a94bc8",
   "metadata": {},
   "source": [
    "# 4th Order"
   ]
  },
  {
   "cell_type": "code",
   "execution_count": 9,
   "id": "5ba49e09-be0c-4d47-9b02-cd7b3c91077c",
   "metadata": {},
   "outputs": [
    {
     "name": "stderr",
     "output_type": "stream",
     "text": [
      "2023/04/15 13:27:45 ---  Gaussian kernel in configuration space: sigma= 0.7000 arcsec\n"
     ]
    }
   ],
   "source": [
    "fpTask  =   fpfs.image.measure_source(psfData, sigma_arcsec=0.7, nnord=6)\n",
    "mms =  fpTask.measure(imgList)\n",
    "fitsio.write('a.fits', mms)"
   ]
  },
  {
   "cell_type": "code",
   "execution_count": 10,
   "id": "78f744ee-a582-427a-9548-9dcbb2586de3",
   "metadata": {},
   "outputs": [],
   "source": [
    "wconst = 2.0\n",
    "test_fname = \"a.fits\"\n",
    "cat = impt.fpfs4.read_catalog(test_fname)\n",
    "params = impt.fpfs4.FpfsParams(Const=wconst)\n",
    "\n",
    "# initialize the function of ellipticty\n",
    "ell1 = impt.fpfs4.nlobs.FpfsE41(params)\n",
    "ell2 = impt.fpfs4.nlobs.FpfsE42(params)"
   ]
  },
  {
   "cell_type": "code",
   "execution_count": 11,
   "id": "b3114f32-3edf-40db-ba69-b58164a17f61",
   "metadata": {},
   "outputs": [
    {
     "name": "stdout",
     "output_type": "stream",
     "text": [
      "[-0.00894136 -0.05497615  0.00212656  0.04926409]\n",
      "[-0.00894136 -0.05497615  0.00212656  0.04926409]\n"
     ]
    }
   ],
   "source": [
    "e1_array = ell1.evaluate(cat)\n",
    "print(ell1.evaluate(cat))\n",
    "print(mms['fpfs_M42c']/(mms['fpfs_M00'] + wconst))"
   ]
  },
  {
   "cell_type": "code",
   "execution_count": 12,
   "id": "81946965-1ba9-47d2-92b1-31e148e764b8",
   "metadata": {},
   "outputs": [
    {
     "name": "stdout",
     "output_type": "stream",
     "text": [
      "[-0.15224553 -0.16207304 -0.15213361 -0.15994158]\n"
     ]
    }
   ],
   "source": [
    "# shear response of e1\n",
    "de1_dg1 = impt.RespG1(ell1)\n",
    "resp_array = de1_dg1.evaluate(cat)\n",
    "print(resp_array)\n",
    "shear=np.average(e1_array)/np.average(resp_array)"
   ]
  },
  {
   "cell_type": "code",
   "execution_count": 13,
   "id": "6a7e42be-87ff-47ab-b04b-91267eecd801",
   "metadata": {},
   "outputs": [
    {
     "name": "stdout",
     "output_type": "stream",
     "text": [
      "Input shear is: 0.020000\n",
      "Estimated shear is: 0.019998\n"
     ]
    }
   ],
   "source": [
    "print('Input shear is: %.6f' %shear_value)\n",
    "print('Estimated shear is: %.6f' %shear)"
   ]
  }
 ],
 "metadata": {
  "kernelspec": {
   "display_name": "Python 3 (ipykernel)",
   "language": "python",
   "name": "python3"
  },
  "language_info": {
   "codemirror_mode": {
    "name": "ipython",
    "version": 3
   },
   "file_extension": ".py",
   "mimetype": "text/x-python",
   "name": "python",
   "nbconvert_exporter": "python",
   "pygments_lexer": "ipython3",
   "version": "3.9.16"
  }
 },
 "nbformat": 4,
 "nbformat_minor": 5
}
