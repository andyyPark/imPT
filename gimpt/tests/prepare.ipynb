{
 "cells": [
  {
   "cell_type": "code",
   "execution_count": 1,
   "id": "a8e8fbdb-090e-49f4-8e48-a069b3d43ec4",
   "metadata": {},
   "outputs": [],
   "source": [
    "%reload_ext autoreload\n",
    "%autoreload 2"
   ]
  },
  {
   "cell_type": "code",
   "execution_count": 2,
   "id": "17f91924-f7f7-4b4b-bb04-92dde1887f53",
   "metadata": {},
   "outputs": [
    {
     "name": "stderr",
     "output_type": "stream",
     "text": [
      "No GPU/TPU found, falling back to CPU. (Set TF_CPP_MIN_LOG_LEVEL=0 and rerun for more info.)\n"
     ]
    }
   ],
   "source": [
    "import jax\n",
    "import jax.numpy as jnp\n",
    "from flax import struct\n",
    "from jax.tree_util import tree_flatten\n",
    "import gimpt\n",
    "from gimpt.fpfs import *\n",
    "from gimpt.fpfs.default_fpfs import *\n",
    "\n",
    "ndat=1\n",
    "a = jnp.zeros((2, ncol))\n",
    "a=a.at[:, m00].set(4)\n",
    "a=a.at[:, m22c].set(1)\n",
    "\n",
    "params = FpfsParams(Const=2.0)\n",
    "e1F = FpfsE1(params)"
   ]
  },
  {
   "cell_type": "code",
   "execution_count": 8,
   "id": "41350fa4-9f25-4f9c-94e0-1dd1691ada25",
   "metadata": {},
   "outputs": [
    {
     "name": "stdout",
     "output_type": "stream",
     "text": [
      "CPU times: user 170 µs, sys: 128 µs, total: 298 µs\n",
      "Wall time: 309 µs\n"
     ]
    }
   ],
   "source": [
    "%time e1_res=gimpt.RespG1(e1F)"
   ]
  },
  {
   "cell_type": "code",
   "execution_count": 9,
   "id": "b8aa387c-9208-4ab4-ab63-f331e7080f03",
   "metadata": {},
   "outputs": [
    {
     "name": "stdout",
     "output_type": "stream",
     "text": [
      "CPU times: user 86.6 ms, sys: 1.3 ms, total: 87.9 ms\n",
      "Wall time: 82.9 ms\n"
     ]
    },
    {
     "data": {
      "text/plain": [
       "Array([0.51068823, 0.51068823], dtype=float64)"
      ]
     },
     "execution_count": 9,
     "metadata": {},
     "output_type": "execute_result"
    }
   ],
   "source": [
    "%time e1_res.evaluate(a)"
   ]
  },
  {
   "cell_type": "code",
   "execution_count": 10,
   "id": "0e1c8d76-b532-4db4-b79a-666098a5d431",
   "metadata": {},
   "outputs": [
    {
     "name": "stdout",
     "output_type": "stream",
     "text": [
      "CPU times: user 116 ms, sys: 2.23 ms, total: 118 ms\n",
      "Wall time: 114 ms\n"
     ]
    },
    {
     "data": {
      "text/plain": [
       "(2, 31, 31)"
      ]
     },
     "execution_count": 10,
     "metadata": {},
     "output_type": "execute_result"
    }
   ],
   "source": [
    "%time e1F.hessian(a).shape"
   ]
  },
  {
   "cell_type": "code",
   "execution_count": 6,
   "id": "5466fb38-d42f-44b6-9ab2-79f0bb532369",
   "metadata": {},
   "outputs": [],
   "source": [
    "e1F2=e1F*2"
   ]
  },
  {
   "cell_type": "code",
   "execution_count": 7,
   "id": "14c7f22c-4266-4e5b-81ec-ab8b8a760180",
   "metadata": {},
   "outputs": [
    {
     "data": {
      "text/plain": [
       "(2, 31, 31)"
      ]
     },
     "execution_count": 7,
     "metadata": {},
     "output_type": "execute_result"
    }
   ],
   "source": [
    "e1F2.hessian(a).shape"
   ]
  },
  {
   "cell_type": "code",
   "execution_count": 10,
   "id": "a7e175db-a7f9-4983-8582-c002afdb0513",
   "metadata": {},
   "outputs": [
    {
     "ename": "AttributeError",
     "evalue": "module 'gimpt' has no attribute 'FpfsModeResponse'",
     "output_type": "error",
     "traceback": [
      "\u001b[0;31m---------------------------------------------------------------------------\u001b[0m",
      "\u001b[0;31mAttributeError\u001b[0m                            Traceback (most recent call last)",
      "Input \u001b[0;32mIn [10]\u001b[0m, in \u001b[0;36m<cell line: 1>\u001b[0;34m()\u001b[0m\n\u001b[0;32m----> 1\u001b[0m sres\u001b[38;5;241m=\u001b[39m \u001b[43mgimpt\u001b[49m\u001b[38;5;241;43m.\u001b[39;49m\u001b[43mFpfsModeResponse\u001b[49m()\n\u001b[1;32m      2\u001b[0m sres\u001b[38;5;241m.\u001b[39mdg1(a)\u001b[38;5;241m.\u001b[39mshape\n",
      "\u001b[0;31mAttributeError\u001b[0m: module 'gimpt' has no attribute 'FpfsModeResponse'"
     ]
    }
   ],
   "source": [
    "sres= gimpt.FpfsModeResponse()\n",
    "sres.dg1(a).shape"
   ]
  },
  {
   "cell_type": "code",
   "execution_count": null,
   "id": "e26e51db-badf-4845-b7a5-df549378c8ab",
   "metadata": {},
   "outputs": [],
   "source": [
    "jax.vmap(jax.grad(gimpt.pt.ptshear(op_fpfs.e1, sres._dg1_row)))(a).M00"
   ]
  },
  {
   "cell_type": "code",
   "execution_count": 6,
   "id": "a0c99125-4980-4385-bab8-b9683e72e17d",
   "metadata": {},
   "outputs": [
    {
     "data": {
      "text/plain": [
       "Array([0.2, 0.2], dtype=float64)"
      ]
     },
     "execution_count": 6,
     "metadata": {},
     "output_type": "execute_result"
    }
   ],
   "source": [
    "jax.lax.map(op_fpfs.e1, a)"
   ]
  },
  {
   "cell_type": "code",
   "execution_count": 14,
   "id": "1bc51234-381c-4714-bcf5-372b23f8dd74",
   "metadata": {},
   "outputs": [
    {
     "data": {
      "text/plain": [
       "Array([0.2, 0.2], dtype=float64)"
      ]
     },
     "execution_count": 14,
     "metadata": {},
     "output_type": "execute_result"
    }
   ],
   "source": [
    "op_fpfs.e1(a)"
   ]
  },
  {
   "cell_type": "code",
   "execution_count": 23,
   "id": "d6d817c4-69dc-49ae-849a-f26f9f931852",
   "metadata": {},
   "outputs": [
    {
     "data": {
      "text/plain": [
       "(2, 15)"
      ]
     },
     "execution_count": 23,
     "metadata": {},
     "output_type": "execute_result"
    }
   ],
   "source": [
    "xgrad(op_fpfs.e1)(a).shape"
   ]
  },
  {
   "cell_type": "code",
   "execution_count": 6,
   "id": "5f13ef18-f3e8-4367-bf56-868072556a9a",
   "metadata": {},
   "outputs": [
    {
     "data": {
      "text/plain": [
       "Array([0.62225397, 0.62225397], dtype=float64)"
      ]
     },
     "execution_count": 6,
     "metadata": {},
     "output_type": "execute_result"
    }
   ],
   "source": [
    "gimpt.pt.ptshear(op_fpfs.e1, gimpt.lin.shapelets_dg1)(a)"
   ]
  }
 ],
 "metadata": {
  "kernelspec": {
   "display_name": "Python 3 (ipykernel)",
   "language": "python",
   "name": "python3"
  },
  "language_info": {
   "codemirror_mode": {
    "name": "ipython",
    "version": 3
   },
   "file_extension": ".py",
   "mimetype": "text/x-python",
   "name": "python",
   "nbconvert_exporter": "python",
   "pygments_lexer": "ipython3",
   "version": "3.8.15"
  }
 },
 "nbformat": 4,
 "nbformat_minor": 5
}
